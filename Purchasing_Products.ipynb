{
  "nbformat": 4,
  "nbformat_minor": 0,
  "metadata": {
    "colab": {
      "name": "Purchasing_Products.ipynb",
      "provenance": [],
      "collapsed_sections": []
    },
    "kernelspec": {
      "name": "python3",
      "display_name": "Python 3"
    },
    "language_info": {
      "name": "python"
    }
  },
  "cells": [
    {
      "cell_type": "markdown",
      "metadata": {
        "id": "J6N90lvU7div"
      },
      "source": [
        "# Importing JSON File  "
      ]
    },
    {
      "cell_type": "code",
      "metadata": {
        "id": "ypIA4K9i2bKZ"
      },
      "source": [
        "import json\n",
        "file=open(\"record1.json\",\"r\")\n",
        "a=file.read()\n",
        "file.close()"
      ],
      "execution_count": 19,
      "outputs": []
    },
    {
      "cell_type": "code",
      "metadata": {
        "id": "URf1XPej4G-o"
      },
      "source": [
        "record=json.loads(a)"
      ],
      "execution_count": 20,
      "outputs": []
    },
    {
      "cell_type": "code",
      "metadata": {
        "id": "rr5SBznJ4lg3"
      },
      "source": [
        "record"
      ],
      "execution_count": null,
      "outputs": []
    },
    {
      "cell_type": "markdown",
      "metadata": {
        "id": "L44w6o7240GR"
      },
      "source": [
        "# **Purchase Products**"
      ]
    },
    {
      "cell_type": "code",
      "metadata": {
        "id": "22QCnlYO43bs",
        "colab": {
          "base_uri": "https://localhost:8080/"
        },
        "outputId": "2ce5a033-0771-4e6b-e720-94ab7dd478fa"
      },
      "source": [
        "\n",
        "print(\"##### WELCOME! What do you want to purchase? #####\")\n",
        "pro_id=input(\"Enter the product id: \")\n",
        "pro_quant=int(input(\"Enter the quantity of product: \"))\n"
      ],
      "execution_count": 140,
      "outputs": [
        {
          "name": "stdout",
          "output_type": "stream",
          "text": [
            "##### WELCOME! What do you want to purchase? #####\n",
            "Enter the product id: 111\n",
            "Enter the quantity of product: 2\n"
          ]
        }
      ]
    },
    {
      "cell_type": "markdown",
      "metadata": {
        "id": "iRMYva5Y5g_0"
      },
      "source": [
        "##  Check whether item is valid(available) or not"
      ]
    },
    {
      "cell_type": "code",
      "metadata": {
        "id": "1mlCHWGF52Ri",
        "colab": {
          "base_uri": "https://localhost:8080/"
        },
        "outputId": "b78ad9ad-14aa-497b-ce08-d8322147a2d7"
      },
      "source": [
        "if(pro_id in record.keys()):\n",
        "  print('Product is available')\n",
        "else:\n",
        "  print('product not available')"
      ],
      "execution_count": 141,
      "outputs": [
        {
          "output_type": "stream",
          "name": "stdout",
          "text": [
            "Product is available\n"
          ]
        }
      ]
    },
    {
      "cell_type": "markdown",
      "metadata": {
        "id": "AMlEqxHn6BMK"
      },
      "source": [
        "### Check Given Quantity of Product available or not\n",
        "# **BILLING AMOUNT**"
      ]
    },
    {
      "cell_type": "code",
      "metadata": {
        "id": "Hgr91YYK6Dg4",
        "colab": {
          "base_uri": "https://localhost:8080/"
        },
        "outputId": "f484ef74-fb45-425b-c81f-7d8ba2be2bab"
      },
      "source": [
        "if(record[pro_id]['qn']>=pro_quant):\n",
        "  print('YES available')\n",
        "  print(\"Product name: \",record[pro_id]['name'])\n",
        "  print(\"Price of product \",record[pro_id]['pr'])\n",
        "  print(\"BILLING AMOUNT IS \",record[pro_id]['pr']*pro_quant)\n",
        "  \n",
        "            \n",
        "\n",
        "else:\n",
        "  print(\"SORRY,We have only\",record[pro_id]['qn'],'quantities of',record[pro_id]['name'],'available')\n",
        "  ch=input('Do you want to purchase available quantity (Y/N)')\n",
        "  if(ch=='Y'):\n",
        "    print(\"Product name: \",record[pro_id]['name'])\n",
        "    print(\"Price of product \",record[pro_id]['pr'])\n",
        "    print(\"BILLING AMOUNT IS \",record[pro_id]['pr']*record[pro_id]['qn'])\n",
        "  else:\n",
        "    print(\"ok\")\n",
        "\n"
      ],
      "execution_count": 142,
      "outputs": [
        {
          "output_type": "stream",
          "name": "stdout",
          "text": [
            "YES available\n",
            "Product name:  lenovo ideapad slim3\n",
            "Price of product  62000\n",
            "BILLING AMOUNT IS  124000\n"
          ]
        }
      ]
    },
    {
      "cell_type": "markdown",
      "metadata": {
        "id": "LN-yKqjc6QCE"
      },
      "source": [
        "## Update Quantities After Purchase"
      ]
    },
    {
      "cell_type": "code",
      "metadata": {
        "id": "j5L-FZWp6aWR"
      },
      "source": [
        "record[pro_id]['qn']=record[pro_id]['qn']-pro_quant"
      ],
      "execution_count": 143,
      "outputs": []
    },
    {
      "cell_type": "code",
      "metadata": {
        "id": "7TFYvBfO6eyZ",
        "colab": {
          "base_uri": "https://localhost:8080/"
        },
        "outputId": "01105e89-b45b-43dd-c9de-7f734717e77c"
      },
      "source": [
        "record[pro_id]['qn']"
      ],
      "execution_count": 144,
      "outputs": [
        {
          "output_type": "execute_result",
          "data": {
            "text/plain": [
              "9"
            ]
          },
          "metadata": {},
          "execution_count": 144
        }
      ]
    },
    {
      "cell_type": "markdown",
      "metadata": {
        "id": "JOVwA2QA6lzE"
      },
      "source": [
        "# **Update inventory after purchase**"
      ]
    },
    {
      "cell_type": "code",
      "metadata": {
        "id": "xBp4pFYC6qtR"
      },
      "source": [
        "js = json.dumps(record)\n",
        "\n",
        "fd = open(\"records.json\",'w')\n",
        "fd.write(js)\n",
        "fd.close()\n"
      ],
      "execution_count": 145,
      "outputs": []
    },
    {
      "cell_type": "code",
      "metadata": {
        "id": "OG7U5pQo6wL9",
        "colab": {
          "base_uri": "https://localhost:8080/"
        },
        "outputId": "068c7de5-08d2-4f5d-d8a4-91a6b99e7708"
      },
      "source": [
        "record"
      ],
      "execution_count": 146,
      "outputs": [
        {
          "output_type": "execute_result",
          "data": {
            "text/plain": [
              "{'101': {'Mfg_date': '20-06-21',\n",
              "  'category': 'biscuits',\n",
              "  'name': 'Bourbonn',\n",
              "  'pr': 20,\n",
              "  'qn': 20},\n",
              " '102': {'Mfg_date': '18-06-21',\n",
              "  'category': 'cold drink',\n",
              "  'name': 'pepsi',\n",
              "  'pr': 50,\n",
              "  'qn': 10},\n",
              " '103': {'Mfg_date': '10-03-21',\n",
              "  'category': 'cold drink',\n",
              "  'name': 'sprite',\n",
              "  'pr': 70,\n",
              "  'qn': 30},\n",
              " '104': {'Mfg_date': '20-04-21',\n",
              "  'category': 'cake',\n",
              "  'name': 'chocolate cake',\n",
              "  'pr': 90,\n",
              "  'qn': 5},\n",
              " '105': {'Mfg_date': '13-05-21',\n",
              "  'category': 'cake',\n",
              "  'name': 'pineapple cake',\n",
              "  'pr': 110,\n",
              "  'qn': 10},\n",
              " '106': {'Mfg_date': '20-06-21',\n",
              "  'category': 'biscuits',\n",
              "  'name': 'parle-g',\n",
              "  'pr': 10,\n",
              "  'qn': 6},\n",
              " '107': {'Mfg_date': '20-05-20',\n",
              "  'category': 'Smartphone',\n",
              "  'name': 'samsung galaxy M12',\n",
              "  'pr': 13500,\n",
              "  'qn': 30},\n",
              " '108': {'Mfg_date': '22-06-19',\n",
              "  'category': 'Smartphone',\n",
              "  'name': 'Redmi 9A',\n",
              "  'pr': 6000,\n",
              "  'qn': 60},\n",
              " '109': {'Mfg_date': '2-06-19',\n",
              "  'category': 'Smartphone',\n",
              "  'name': 'OPPO A31',\n",
              "  'pr': 12500,\n",
              "  'qn': 60},\n",
              " '110': {'Mfg_date': '20-08-20',\n",
              "  'category': 'Smartphone',\n",
              "  'name': 'Readmi note 10',\n",
              "  'pr': 13999,\n",
              "  'qn': 21},\n",
              " '111': {'Mfg_date': '20-07-21',\n",
              "  'category': 'laptop',\n",
              "  'name': 'lenovo ideapad slim3',\n",
              "  'pr': 62000,\n",
              "  'qn': 9},\n",
              " '112': {'Mfg_date': '11-02-21',\n",
              "  'category': 'laptop',\n",
              "  'name': 'lenovo ideapad slim3',\n",
              "  'pr': 62000,\n",
              "  'qn': 11},\n",
              " '113': {'Mfg_date': '23-01-21',\n",
              "  'category': 'laptop',\n",
              "  'name': 'MI Notebook',\n",
              "  'pr': 45000,\n",
              "  'qn': 10},\n",
              " '114': {'Mfg_date': '27-02-21',\n",
              "  'category': 'laptop',\n",
              "  'name': 'Hp 15S',\n",
              "  'pr': 47990,\n",
              "  'qn': 1},\n",
              " '115': {'Mfg_date': '19-06-21',\n",
              "  'category': 'laptop',\n",
              "  'name': 'Hp 15',\n",
              "  'pr': 36000,\n",
              "  'qn': 5},\n",
              " '117': {'Mfg_date': '15-06-21',\n",
              "  'category': 'cold drink',\n",
              "  'name': 'appy fizz',\n",
              "  'pr': 33,\n",
              "  'qn': 9},\n",
              " '118': {'Mfg_date': '22-06-21',\n",
              "  'category': 'cold drink',\n",
              "  'name': '7up',\n",
              "  'pr': 27,\n",
              "  'qn': 58},\n",
              " '119': {'Mfg_date': '21-06-21',\n",
              "  'category': 'cold drink',\n",
              "  'name': 'fanta',\n",
              "  'pr': 35,\n",
              "  'qn': 18},\n",
              " '120': {'Mfg_date': '27-08-21',\n",
              "  'category': 'biscuits',\n",
              "  'name': 'britania marie',\n",
              "  'pr': 15,\n",
              "  'qn': 25},\n",
              " '121': {'Mfg_date': '25-04-21',\n",
              "  'category': 'biscuits',\n",
              "  'name': 'oreo choco cream',\n",
              "  'pr': 10,\n",
              "  'qn': 11},\n",
              " '122': {'Mfg_date': '20-05-21',\n",
              "  'category': 'biscuits',\n",
              "  'name': 'dark fantasy',\n",
              "  'pr': 110,\n",
              "  'qn': 10},\n",
              " '124': {'Mfg_date': '10-06-21',\n",
              "  'category': 'biscuits',\n",
              "  'name': 'monaco',\n",
              "  'pr': 30,\n",
              "  'qn': 5},\n",
              " '125': {'Mfg_date': '22-07-21',\n",
              "  'category': 'cadbury',\n",
              "  'name': '5 star',\n",
              "  'pr': 20,\n",
              "  'qn': 52},\n",
              " '126': {'Mfg_date': '10-02-21',\n",
              "  'category': 'cadbury',\n",
              "  'name': 'perk',\n",
              "  'pr': 5,\n",
              "  'qn': 56},\n",
              " '127': {'Mfg_date': '15-03-21',\n",
              "  'category': 'cadbury',\n",
              "  'name': 'nestle munch',\n",
              "  'pr': 15,\n",
              "  'qn': 19},\n",
              " '128': {'Mfg_date': '20-04-21',\n",
              "  'category': 'cake',\n",
              "  'name': 'fruit  cake',\n",
              "  'pr': 200,\n",
              "  'qn': 15},\n",
              " '129': {'Mfg_date': '2-05-21',\n",
              "  'category': 'device',\n",
              "  'name': 'keyboard',\n",
              "  'pr': 1900,\n",
              "  'qn': 52},\n",
              " '130': {'Mfg_date': '20-06-21',\n",
              "  'category': 'device',\n",
              "  'name': 'mouse',\n",
              "  'pr': 800,\n",
              "  'qn': 50},\n",
              " '131': {'Mfg_date': '20-08-21',\n",
              "  'category': 'laptop',\n",
              "  'name': 'HP 14',\n",
              "  'pr': 56990,\n",
              "  'qn': 5},\n",
              " '132': {'Mfg_date': '20-06-21',\n",
              "  'category': 'biscuits',\n",
              "  'name': 'good day',\n",
              "  'pr': 15,\n",
              "  'qn': 5},\n",
              " '133': {'Mfg_date': '19-06-20',\n",
              "  'category': 'laptop',\n",
              "  'name': 'HP Pavillion 13',\n",
              "  'pr': 95000,\n",
              "  'qn': 5},\n",
              " '134': {'Mfg_date': '20-04-20',\n",
              "  'category': 'laptop',\n",
              "  'name': 'hp chromebook',\n",
              "  'pr': 30000,\n",
              "  'qn': 4},\n",
              " '135': {'Mfg_date': '20-02-21',\n",
              "  'category': 'cake',\n",
              "  'name': 'cup cake',\n",
              "  'pr': 60,\n",
              "  'qn': 6}}"
            ]
          },
          "metadata": {},
          "execution_count": 146
        }
      ]
    },
    {
      "cell_type": "markdown",
      "metadata": {
        "id": "0saY4lw-61bJ"
      },
      "source": [
        "# **SALES JSON**"
      ]
    },
    {
      "cell_type": "code",
      "metadata": {
        "id": "IBPWRFQY66I-",
        "colab": {
          "base_uri": "https://localhost:8080/"
        },
        "outputId": "45f76d49-c886-49b7-abf8-f19e1e9cb68f"
      },
      "source": [
        "{'product id' : pro_id, 'quantity' : pro_quant, 'amount': record[pro_id]['pr'] * pro_quant,'product name':record[pro_id]['name']}\n"
      ],
      "execution_count": 147,
      "outputs": [
        {
          "output_type": "execute_result",
          "data": {
            "text/plain": [
              "{'amount': 124000,\n",
              " 'product id': '111',\n",
              " 'product name': 'lenovo ideapad slim3',\n",
              " 'quantity': 2}"
            ]
          },
          "metadata": {},
          "execution_count": 147
        }
      ]
    },
    {
      "cell_type": "code",
      "metadata": {
        "id": "vanOTyJ068Iu"
      },
      "source": [
        "\n",
        "sales[len(sales)+1] = {'product id' : pro_id,'product name':record[pro_id]['name'],'quantity' : pro_quant, 'amount': record[pro_id]['pr'] * pro_quant}"
      ],
      "execution_count": 150,
      "outputs": []
    },
    {
      "cell_type": "code",
      "metadata": {
        "id": "KeMP8ErX7Brx"
      },
      "source": [
        "js=json.dumps(sales)\n",
        "fd=open(\"sales.json\",\"w\")\n",
        "fd.write(js)\n",
        "fd.close()\n"
      ],
      "execution_count": 151,
      "outputs": []
    },
    {
      "cell_type": "code",
      "metadata": {
        "id": "WzZP9Z4-7IC6"
      },
      "source": [
        "\n",
        "file=open(\"sales.json\",\"r\")\n",
        "a=file.read()\n",
        "file.close()"
      ],
      "execution_count": 152,
      "outputs": []
    },
    {
      "cell_type": "code",
      "metadata": {
        "id": "fdr6RGc57Wf5",
        "colab": {
          "base_uri": "https://localhost:8080/",
          "height": 102
        },
        "outputId": "0eaafd7d-5c13-43e0-e48b-47bc00353d91"
      },
      "source": [
        "a"
      ],
      "execution_count": 153,
      "outputs": [
        {
          "output_type": "execute_result",
          "data": {
            "application/vnd.google.colaboratory.intrinsic+json": {
              "type": "string"
            },
            "text/plain": [
              "'{\"1\": {\"product id\": \"134\", \"product name\": \"hp chromebook\", \"quantity\": 4, \"amount\": 120000}, \"2\": {\"product id\": \"125\", \"product name\": \"5 star\", \"quantity\": 3, \"amount\": 60}, \"3\": {\"product id\": \"120\", \"product name\": \"britania marie\", \"quantity\": 5, \"amount\": 75}, \"4\": {\"product id\": \"124\", \"product name\": \"monaco\", \"quantity\": 2, \"amount\": 60}, \"5\": {\"product id\": \"117\", \"product name\": \"appy fizz\", \"quantity\": 2, \"amount\": 66}, \"6\": {\"product id\": \"118\", \"product name\": \"7up\", \"quantity\": 3, \"amount\": 81}, \"7\": {\"product id\": \"130\", \"product name\": \"mouse\", \"quantity\": 5, \"amount\": 4000}, \"8\": {\"product id\": \"119\", \"product name\": \"fanta\", \"quantity\": 2, \"amount\": 70}, \"9\": {\"product id\": \"111\", \"product name\": \"lenovo ideapad slim3\", \"quantity\": 2, \"amount\": 124000}, \"10\": {\"product id\": \"111\", \"product name\": \"lenovo ideapad slim3\", \"quantity\": 2, \"amount\": 124000}}'"
            ]
          },
          "metadata": {},
          "execution_count": 153
        }
      ]
    }
  ]
}